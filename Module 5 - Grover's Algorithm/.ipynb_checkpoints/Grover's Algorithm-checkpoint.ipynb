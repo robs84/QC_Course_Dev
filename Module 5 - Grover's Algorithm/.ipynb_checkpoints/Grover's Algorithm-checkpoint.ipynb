{
 "cells": [
  {
   "cell_type": "markdown",
   "metadata": {},
   "source": [
    "It is often advantageous in computing to search through a dictionary containing any number of strings, integers, etc. An example of this might be to search through a list of flight routes to find the one that will get you to your destination soonest.  In this example, if there are $N$ possible flights plans, the amount of operations needed is $O(N)$ to perform an unstructured search. However, by employing Grover's algorithm the search speeds up quadratically.  Grover's algorithm is an efficient search method that amplifies a target state through the use of an Oracle (like we saw in previous modules) and a phase shift. In this module you will guided in writing an implementation of Grover's algorithm in Qiskit.  Details about Grover's algorithm can be found in the following resource:\n",
    "\n",
    "M. A. Nielsen and I. L. Chuang, *Quantum Computation and Quantum Information* (Cambridge University Press, USA, 2011) pp. 248-255."
   ]
  },
  {
   "cell_type": "markdown",
   "metadata": {},
   "source": [
    "Let's start with a Classical computing exercise where we seek a target entry in the list.  \n",
    "\n",
    "Here is a list of integers that we will be testing our code on."
   ]
  },
  {
   "cell_type": "code",
   "execution_count": 1,
   "metadata": {},
   "outputs": [],
   "source": [
    "#A list of numbers to be searched for the number 8\n",
    "secret_list=[4,3,5,6,7,8,1,2,9,3,0]"
   ]
  },
  {
   "cell_type": "markdown",
   "metadata": {},
   "source": [
    "Begin by writing a function called c_oracle.   In the function set the target to 8, and use an if-else Boolean statement to determine if you found the target entry. "
   ]
  },
  {
   "cell_type": "code",
   "execution_count": 2,
   "metadata": {},
   "outputs": [],
   "source": [
    "#defining the oracle with target of 8\n",
    "def c_oracle(entry):\n",
    "    target = 8\n",
    "    if entry is target:\n",
    "        answer = True\n",
    "    else:\n",
    "        answer = False\n",
    "    return answer"
   ]
  },
  {
   "cell_type": "markdown",
   "metadata": {},
   "source": [
    "Now, use a for loop to iterate through the list, and test each entry using the c-oracle function. Print the index the target is located in and how many calls to the oracle were performed to find this result. This is considered an unstructured search, but there are obviously more efficient ways of approaching this task."
   ]
  },
  {
   "cell_type": "code",
   "execution_count": 3,
   "metadata": {},
   "outputs": [
    {
     "name": "stdout",
     "output_type": "stream",
     "text": [
      "The target was located at index 5.\n",
      "6 calls to the Oracle were used to find the target.\n"
     ]
    }
   ],
   "source": [
    "#number of times the oracle is called and at what index in the list is the target\n",
    "for index, test in enumerate(secret_list):\n",
    "    if c_oracle(test) is True:\n",
    "        print('The target was located at index %i.' %index)\n",
    "        print('%i calls to the Oracle were used to find the target.' %(index+1))#recall that indices in Python start at 0\n",
    "        break"
   ]
  },
  {
   "cell_type": "markdown",
   "metadata": {},
   "source": [
    "Now let's look at Grover's algorithm."
   ]
  },
  {
   "cell_type": "code",
   "execution_count": 4,
   "metadata": {},
   "outputs": [],
   "source": [
    "from qiskit import *\n",
    "from qiskit.visualization import plot_histogram\n",
    "import matplotlib.pyplot as mpl\n",
    "import numpy as np"
   ]
  },
  {
   "cell_type": "markdown",
   "metadata": {},
   "source": [
    "Grover's Algorithm amplifies the target state, making the search for it a 1-shot process.\n",
    "\n",
    "Let's choose the $|11\\rangle$ state as our secret state.\n",
    "\n",
    "Begin by building the quantum circuit that will act as our oracle.  Create a 2-qubit quantum circuit and name it q_oracle.  This oracle is simply a CZ gate. "
   ]
  },
  {
   "cell_type": "code",
   "execution_count": 5,
   "metadata": {},
   "outputs": [
    {
     "data": {
      "image/png": "[encoded data removed]",
      "text/plain": [
       "<Figure size 146.652x144.48 with 1 Axes>"
      ]
     },
     "execution_count": 5,
     "metadata": {},
     "output_type": "execute_result"
    }
   ],
   "source": [
    "#defining the oracle as a quantum circuit\n",
    "q_oracle = QuantumCircuit(2,name='q_oracle')\n",
    "q_oracle.cz(0,1) #flips the sign\n",
    "q_oracle.to_gate()\n",
    "q_oracle.draw(output='mpl')"
   ]
  },
  {
   "cell_type": "markdown",
   "metadata": {},
   "source": [
    "Next, build a quantum circuit consisting of two qubits and two classical bits.  Apply the Hadamard gates to both qubits and then append the circuit with the q_oracle gate."
   ]
  },
  {
   "cell_type": "code",
   "execution_count": 6,
   "metadata": {},
   "outputs": [
    {
     "data": {
      "image/png": "[encoded data removed]",
      "text/plain": [
       "<Figure size 267.052x204.68 with 1 Axes>"
      ]
     },
     "execution_count": 6,
     "metadata": {},
     "output_type": "execute_result"
    }
   ],
   "source": [
    "grover = QuantumCircuit(2,2)\n",
    "grover.h([0,1])#generating a superposition\n",
    "grover.append(q_oracle,[0,1])\n",
    "grover.draw(output='mpl')"
   ]
  },
  {
   "cell_type": "markdown",
   "metadata": {},
   "source": [
    "Consider the state of both qubits.  What are they at this point?  Remember, our q_oracle is a CZ gate between the qubits.  Run a simulation to validate your prediction."
   ]
  },
  {
   "cell_type": "code",
   "execution_count": 7,
   "metadata": {},
   "outputs": [
    {
     "name": "stdout",
     "output_type": "stream",
     "text": [
      "[ 0.5+0.j  0.5+0.j  0.5+0.j -0.5+0.j]\n"
     ]
    }
   ],
   "source": [
    "backend = Aer.get_backend('statevector_simulator')#simulation\n",
    "job = execute(grover,backend)\n",
    "result=job.result()\n",
    "state_vec=result.get_statevector()\n",
    "print(state_vec)\n",
    "#qubit-0 is in the |+> state and qubit-1 is in the |-> state"
   ]
  },
  {
   "cell_type": "markdown",
   "metadata": {},
   "source": [
    "Now define the phase shift.  A phase shift takes every computational basis state (except $|0\\rangle$) and flips the sign on the state.  \n",
    "To accomplish this make a 2-qubit circuit, and to both qubits apply a Hadamard, Z, CZ, and another Hadamard (acting on a ket it would look like HCZZH). \n",
    "Can you deduce how the application of this phase shift amplifies the signal of the target state?"
   ]
  },
  {
   "cell_type": "code",
   "execution_count": 8,
   "metadata": {},
   "outputs": [
    {
     "data": {
      "text/plain": [
       "<qiskit.circuit.gate.Gate at 0x7fddb57c17f0>"
      ]
     },
     "execution_count": 8,
     "metadata": {},
     "output_type": "execute_result"
    }
   ],
   "source": [
    "phase_shift=QuantumCircuit(2,name='phase_shift')\n",
    "phase_shift.h([0,1])\n",
    "phase_shift.z([0,1])\n",
    "phase_shift.cz(0,1)\n",
    "phase_shift.h([0,1])\n",
    "phase_shift.to_gate()"
   ]
  },
  {
   "cell_type": "markdown",
   "metadata": {},
   "source": [
    "Append your circuit to include the phase shift.  Measure both qubits."
   ]
  },
  {
   "cell_type": "code",
   "execution_count": 9,
   "metadata": {},
   "outputs": [
    {
     "data": {
      "image/png": "[encoded data removed]",
      "text/plain": [
       "<Figure size 568.052x204.68 with 1 Axes>"
      ]
     },
     "execution_count": 9,
     "metadata": {},
     "output_type": "execute_result"
    }
   ],
   "source": [
    "grover.append(phase_shift,[0,1])\n",
    "grover.measure([0,1],[0,1])\n",
    "grover.draw(output='mpl')"
   ]
  },
  {
   "cell_type": "markdown",
   "metadata": {},
   "source": [
    "Now simulate Grover's algorithm with one shot."
   ]
  },
  {
   "cell_type": "code",
   "execution_count": 10,
   "metadata": {},
   "outputs": [
    {
     "data": {
      "text/plain": [
       "{'11': 1}"
      ]
     },
     "execution_count": 10,
     "metadata": {},
     "output_type": "execute_result"
    }
   ],
   "source": [
    "backend = Aer.get_backend('qasm_simulator')\n",
    "job=execute(grover,backend,shots=1)\n",
    "result=job.result()\n",
    "result.get_counts()"
   ]
  },
  {
   "cell_type": "markdown",
   "metadata": {},
   "source": [
    "Optional: Run this circuit on a quantum computer"
   ]
  },
  {
   "cell_type": "code",
   "execution_count": 11,
   "metadata": {},
   "outputs": [
    {
     "data": {
      "text/plain": [
       "[<AccountProvider for IBMQ(hub='ibm-q', group='open', project='main')>]"
      ]
     },
     "execution_count": 11,
     "metadata": {},
     "output_type": "execute_result"
    }
   ],
   "source": [
    "from qiskit import IBMQ\n",
    "from qiskit.tools.monitor import job_monitor\n",
    "from qiskit.providers.ibmq import least_busy\n",
    "\n",
    "IBMQ.load_account()\n",
    "IBMQ.providers()"
   ]
  },
  {
   "cell_type": "code",
   "execution_count": 12,
   "metadata": {},
   "outputs": [
    {
     "name": "stdout",
     "output_type": "stream",
     "text": [
      "Job Status: job has successfully run\n"
     ]
    }
   ],
   "source": [
    "provider = IBMQ.get_provider(hub='ibm-q')\n",
    "backend = least_busy(provider.backends(filters=lambda b: b.configuration().n_qubits >= 3 and\n",
    "                                   not b.configuration().simulator and b.status().operational==True))\n",
    "t_qc = transpile(grover, backend)\n",
    "job = backend.run(t_qc, shots = 1000)\n",
    "job_monitor(job) "
   ]
  },
  {
   "cell_type": "code",
   "execution_count": 13,
   "metadata": {},
   "outputs": [
    {
     "data": {
      "image/png": "[encoded data removed]",
      "text/plain": [
       "<Figure size 504x360 with 1 Axes>"
      ]
     },
     "execution_count": 13,
     "metadata": {},
     "output_type": "execute_result"
    }
   ],
   "source": [
    "result = job.result()\n",
    "counts = result.get_counts(grover)\n",
    "plot_histogram(counts)"
   ]
  },
  {
   "cell_type": "markdown",
   "metadata": {},
   "source": [
    "Implement a 4-qubit Grover's algorithm search for the state $|1111\\rangle$ in python."
   ]
  },
  {
   "cell_type": "code",
   "execution_count": null,
   "metadata": {},
   "outputs": [],
   "source": []
  }
 ],
 "metadata": {
  "kernelspec": {
   "display_name": "Python 3 (ipykernel)",
   "language": "python",
   "name": "python3"
  },
  "language_info": {
   "codemirror_mode": {
    "name": "ipython",
    "version": 3
   },
   "file_extension": ".py",
   "mimetype": "text/x-python",
   "name": "python",
   "nbconvert_exporter": "python",
   "pygments_lexer": "ipython3",
   "version": "3.8.12"
  }
 },
 "nbformat": 4,
 "nbformat_minor": 4
}
