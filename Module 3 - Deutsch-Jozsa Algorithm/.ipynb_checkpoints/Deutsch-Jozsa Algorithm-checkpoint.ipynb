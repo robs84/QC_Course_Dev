{
 "cells": [
  {
   "cell_type": "markdown",
   "id": "6bc0464e",
   "metadata": {},
   "source": [
    "Consider a number between zero and $2^{n}-1$.  Then consider a function that can take that number as an input that will either always return a constant regardless of the input or will return one value for half the inputs and another for the remaining inputs.  Without access to the function itself, how do you know whether it is a constant function or a balanced function?  This is called Deutsch's problem.\n",
    "\n",
    "One of the first quantum algorithms shown to outperform an analogous classical algorithm is the Deutsch-Jozsa algorithm.  This algorithm simply informs us if the function described in Deutsch's problem is constant or balanced.  In this module you will be guided on coding the Deutsch-Jozsa algorithm using Qiskit.\n",
    "\n",
    "M. A. Nielsen and I. L. Chuang, *Quantum Computation and Quantum Information* (Cambridge University Press, USA, 2011) pp. 34–36."
   ]
  },
  {
   "cell_type": "code",
   "execution_count": 1,
   "id": "84a0c1f8",
   "metadata": {},
   "outputs": [],
   "source": [
    "import numpy as np\n",
    "from qiskit import *\n",
    "from qiskit.tools.visualization import plot_histogram"
   ]
  },
  {
   "cell_type": "markdown",
   "id": "a3098efa",
   "metadata": {},
   "source": [
    "Start by defining an oracle function that takes the integer n as a parameter. In the function, create an n+1 qubit circuit. Then make an if-elif statement that checks to see if the function is constant or balanced. Include an option for a random choice between the two cases. When the function is constant, choose whether you want to output all 0 or 1 and enforce the condition.  \n",
    "\n",
    "If the function is balanced, generate a binary number of n characters. Iterate over that binary number and if a qubit is in the $|1\\rangle$ state, perform an X gate operation on the corresponding qubit. Then apply a CX to each qubit except the last one and use the last qubit as the target for each CX. Finally, apply an X gate to the same qubits you did previously.\n",
    "\n",
    "The function should return the oracle as a gate."
   ]
  },
  {
   "cell_type": "code",
   "execution_count": 2,
   "id": "1828392f",
   "metadata": {},
   "outputs": [],
   "source": [
    "n = 4\n",
    "\n",
    "def oracle(n):\n",
    "    #create the oracle\n",
    "    oracle = QuantumCircuit(n+1)\n",
    "    #randomly pick 0 or 1\n",
    "    value = np.random.randint(2)\n",
    "    #the random assignment of a case\n",
    "    #if case == 'random':\n",
    "        #value = np.random.randint(2)\n",
    "    if value == 1:\n",
    "            #case = 'constant'\n",
    "        number = np.random.randint(2)\n",
    "        if number == 1:\n",
    "            oracle.x(n)\n",
    "        print('constant function')\n",
    "    else:\n",
    "            #case = 'balanced'\n",
    "        #generate the binary string\n",
    "        binary = np.random.randint(1,2**n)\n",
    "        binary_str = format(binary, '0'+str(n)+'b')\n",
    "        #iterate over the binary string and apply an X gate whenever there's a 1, otherwise do nothing \n",
    "        for qubit in range(len(binary_str)):\n",
    "            if binary_str[qubit] == '1':\n",
    "                oracle.x(qubit)\n",
    "        #apply CX to qubits-0 to n-1, with qubit-n as the target\n",
    "        for qubit in range(n):\n",
    "            oracle.cx(qubit, n)\n",
    "        #apply X gates to the same qubits as before\n",
    "        for qubit in range(len(binary_str)):\n",
    "            if binary_str[qubit] == '1':\n",
    "                oracle.x(qubit)\n",
    "        print('balanced function')\n",
    "\n",
    "    \n",
    "    gate = oracle.to_gate()\n",
    "    return gate"
   ]
  },
  {
   "cell_type": "markdown",
   "id": "162999e4",
   "metadata": {},
   "source": [
    "Now, let's build a circuit that uses the oracle.  The circuit should have n+1 qubits and n classical bits.  We will call $q_{0}$ through $q_{n-1}$ input qubits and $q_{n}$ the output qubit.  Apply Hadamards to all the input qubits, and XH to the output qubit.  What are the states of each qubit currently?"
   ]
  },
  {
   "cell_type": "code",
   "execution_count": 3,
   "id": "888388f9",
   "metadata": {},
   "outputs": [
    {
     "data": {
      "text/plain": [
       "<qiskit.circuit.instructionset.InstructionSet at 0x7fe5f6606b50>"
      ]
     },
     "execution_count": 3,
     "metadata": {},
     "output_type": "execute_result"
    }
   ],
   "source": [
    "circuit = QuantumCircuit(n+1, n)\n",
    "#apply Hadamards to the input qubits \n",
    "for qubit in range(n):\n",
    "    circuit.h(qubit)\n",
    "#apply HX to the output qubit\n",
    "circuit.x(n)\n",
    "circuit.h(n)\n",
    "circuit.barrier()"
   ]
  },
  {
   "cell_type": "markdown",
   "id": "d832b6bd",
   "metadata": {},
   "source": [
    "Add the oracle you defined earlier to the circuit, apply Hadamards to each input qubit, and then measure the input qubits."
   ]
  },
  {
   "cell_type": "code",
   "execution_count": 4,
   "id": "2fc3cd3a",
   "metadata": {},
   "outputs": [
    {
     "name": "stdout",
     "output_type": "stream",
     "text": [
      "balanced function\n"
     ]
    },
    {
     "data": {
      "image/png": "[encoded data removed]",
      "text/plain": [
       "<Figure size 748.797x385.28 with 1 Axes>"
      ]
     },
     "execution_count": 4,
     "metadata": {},
     "output_type": "execute_result"
    }
   ],
   "source": [
    "#append the oracle gate to the circuit\n",
    "circuit.append(oracle(n), range(n+1))\n",
    "#apply Hadamards to all the input qubits\n",
    "for qubit in range(n):\n",
    "    circuit.h(qubit)\n",
    "circuit.barrier()\n",
    "#measure the input qubits\n",
    "for i in range(n):\n",
    "    circuit.measure(i, i)\n",
    "circuit.draw(output='mpl')"
   ]
  },
  {
   "cell_type": "code",
   "execution_count": 5,
   "id": "65f0a026",
   "metadata": {},
   "outputs": [
    {
     "data": {
      "image/png": "[encoded data removed]",
      "text/plain": [
       "<Figure size 504x360 with 1 Axes>"
      ]
     },
     "execution_count": 5,
     "metadata": {},
     "output_type": "execute_result"
    }
   ],
   "source": [
    "simulator = Aer.get_backend('qasm_simulator')\n",
    "result = execute(circuit, backend = simulator, shots = 1).result()\n",
    "counts = result.get_counts()\n",
    "plot_histogram(counts)"
   ]
  },
  {
   "cell_type": "markdown",
   "id": "9c6150f6",
   "metadata": {},
   "source": [
    "Does this result make sense?  Consider what the oracle is doing to an input qubit and the purpose of the inclusion of the Hadamard before measurement.\n",
    "\n",
    "Optionally, run this program on the quantum computer."
   ]
  },
  {
   "cell_type": "code",
   "execution_count": 6,
   "id": "4bfc8034",
   "metadata": {},
   "outputs": [
    {
     "data": {
      "text/plain": [
       "[<AccountProvider for IBMQ(hub='ibm-q', group='open', project='main')>]"
      ]
     },
     "execution_count": 6,
     "metadata": {},
     "output_type": "execute_result"
    }
   ],
   "source": [
    "from qiskit import IBMQ\n",
    "from qiskit.tools.monitor import job_monitor\n",
    "from qiskit.providers.ibmq import least_busy\n",
    "\n",
    "IBMQ.load_account()\n",
    "IBMQ.providers()"
   ]
  },
  {
   "cell_type": "code",
   "execution_count": 7,
   "id": "0cc2d732",
   "metadata": {},
   "outputs": [
    {
     "name": "stdout",
     "output_type": "stream",
     "text": [
      "Job Status: job has successfully run\n"
     ]
    }
   ],
   "source": [
    "provider = IBMQ.get_provider(hub='ibm-q')\n",
    "backend = least_busy(provider.backends(filters=lambda b: b.configuration().n_qubits >= 3 and\n",
    "                                   not b.configuration().simulator and b.status().operational==True))\n",
    "t_qc = transpile(circuit, backend)\n",
    "job = backend.run(t_qc, shots = 1000)\n",
    "job_monitor(job) "
   ]
  },
  {
   "cell_type": "code",
   "execution_count": 8,
   "id": "fdfcaed3",
   "metadata": {},
   "outputs": [
    {
     "data": {
      "image/png": "[encoded data removed]",
      "text/plain": [
       "<Figure size 504x360 with 1 Axes>"
      ]
     },
     "execution_count": 8,
     "metadata": {},
     "output_type": "execute_result"
    }
   ],
   "source": [
    "result = job.result()\n",
    "counts = result.get_counts(circuit)\n",
    "plot_histogram(counts)"
   ]
  },
  {
   "cell_type": "code",
   "execution_count": null,
   "id": "2dc56401",
   "metadata": {},
   "outputs": [],
   "source": []
  }
 ],
 "metadata": {
  "kernelspec": {
   "display_name": "Python 3 (ipykernel)",
   "language": "python",
   "name": "python3"
  },
  "language_info": {
   "codemirror_mode": {
    "name": "ipython",
    "version": 3
   },
   "file_extension": ".py",
   "mimetype": "text/x-python",
   "name": "python",
   "nbconvert_exporter": "python",
   "pygments_lexer": "ipython3",
   "version": "3.8.12"
  }
 },
 "nbformat": 4,
 "nbformat_minor": 5
}
